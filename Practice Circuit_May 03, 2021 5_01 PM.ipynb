{
 "cells": [
  {
   "cell_type": "code",
   "execution_count": 8,
   "metadata": {},
   "outputs": [],
   "source": [
    "import numpy as np\n",
    "# Importing standard Qiskit libraries\n",
    "from qiskit import *\n",
    "from qiskit.tools.jupyter import *\n",
    "from qiskit.visualization import *\n",
    "from ibm_quantum_widgets import *\n",
    "\n",
    "# Loading your IBM Q account(s)\n",
    "provider = IBMQ.load_account()"
   ]
  },
  {
   "cell_type": "code",
   "execution_count": 25,
   "metadata": {
    "scrolled": true
   },
   "outputs": [
    {
     "data": {
      "image/png": "[encoded data removed]",
      "text/plain": [
       "<Figure size 219.978x204.68 with 1 Axes>"
      ]
     },
     "execution_count": 25,
     "metadata": {},
     "output_type": "execute_result"
    }
   ],
   "source": [
    "from qiskit import *\n",
    "from numpy import pi\n",
    "\n",
    "qreg_q = QuantumRegister(2)\n",
    "creg_c = ClassicalRegister(2)\n",
    "circuit = QuantumCircuit(qreg_q, creg_c)\n",
    "\n",
    "circuit.h(qreg_q[0])\n",
    "circuit.x(qreg_q[1])\n",
    "circuit.cx(qreg_q[0], qreg_q[1])\n",
    "\n",
    "\"\"\"\n",
    "editor = CircuitComposer(circuit=circuit)\n",
    "editor\n",
    "\"\"\"\n",
    "\n",
    "%matplotlib inline\n",
    "circuit.draw(output = 'mpl')"
   ]
  },
  {
   "cell_type": "code",
   "execution_count": 26,
   "metadata": {},
   "outputs": [
    {
     "data": {
      "image/png": "[encoded data removed]",
      "text/plain": [
       "<Figure size 340.378x204.68 with 1 Axes>"
      ]
     },
     "execution_count": 26,
     "metadata": {},
     "output_type": "execute_result"
    }
   ],
   "source": [
    "circuit.measure(qreg_q, creg_c)\n",
    "circuit.draw('mpl')"
   ]
  },
  {
   "cell_type": "code",
   "execution_count": 28,
   "metadata": {},
   "outputs": [],
   "source": [
    "simulator = Aer.get_backend('qasm_simulator')\n",
    "result = execute(circuit, backend = simulator).result()"
   ]
  },
  {
   "cell_type": "code",
   "execution_count": 29,
   "metadata": {},
   "outputs": [],
   "source": [
    "from qiskit.tools.visualization import plot_histogram"
   ]
  },
  {
   "cell_type": "code",
   "execution_count": 30,
   "metadata": {},
   "outputs": [
    {
     "data": {
      "image/png": "[encoded data removed]",
      "text/plain": [
       "<Figure size 504x360 with 1 Axes>"
      ]
     },
     "execution_count": 30,
     "metadata": {},
     "output_type": "execute_result"
    }
   ],
   "source": [
    "plot_histogram(result.get_counts(circuit))"
   ]
  },
  {
   "cell_type": "code",
   "execution_count": 31,
   "metadata": {},
   "outputs": [],
   "source": [
    "qcomp = provider.get_backend('ibmq_16_melbourne')"
   ]
  },
  {
   "cell_type": "code",
   "execution_count": 32,
   "metadata": {},
   "outputs": [],
   "source": [
    "job = execute(circuit,backend = qcomp)"
   ]
  },
  {
   "cell_type": "code",
   "execution_count": 33,
   "metadata": {},
   "outputs": [],
   "source": [
    "from qiskit.tools.monitor import job_monitor"
   ]
  },
  {
   "cell_type": "code",
   "execution_count": 34,
   "metadata": {},
   "outputs": [
    {
     "name": "stdout",
     "output_type": "stream",
     "text": [
      "Job Status: job has successfully run\n"
     ]
    }
   ],
   "source": [
    "job_monitor(job)"
   ]
  },
  {
   "cell_type": "code",
   "execution_count": null,
   "metadata": {},
   "outputs": [],
   "source": [
    "#results = job.result\n",
    "#plot_histogram(result.get_count(circuit))"
   ]
  }
 ],
 "metadata": {
  "kernelspec": {
   "display_name": "Python 3",
   "language": "python",
   "name": "python3"
  },
  "language_info": {
   "codemirror_mode": {
    "name": "ipython",
    "version": 3
   },
   "file_extension": ".py",
   "mimetype": "text/x-python",
   "name": "python",
   "nbconvert_exporter": "python",
   "pygments_lexer": "ipython3",
   "version": "3.8.8"
  },
  "widgets": {
   "application/vnd.jupyter.widget-state+json": {
    "state": {
     "021e2838426741afb031f8c0804c24f8": {
      "model_module": "@jupyter-widgets/base",
      "model_module_version": "1.2.0",
      "model_name": "LayoutModel",
      "state": {
       "width": "145px"
      }
     },
     "0b4730da7edb4f688533c91dc79e5072": {
      "model_module": "@jupyter-widgets/controls",
      "model_module_version": "1.5.0",
      "model_name": "DescriptionStyleModel",
      "state": {
       "description_width": ""
      }
     },
     "0b47cc0c51b44837b9d4627e9ca038dd": {
      "model_module": "@jupyter-widgets/base",
      "model_module_version": "1.2.0",
      "model_name": "LayoutModel",
      "state": {
       "width": "190px"
      }
     },
     "0ee417a0c4e84d7398191e2946b9d2ae": {
      "model_module": "@jupyter-widgets/controls",
      "model_module_version": "1.5.0",
      "model_name": "DescriptionStyleModel",
      "state": {
       "description_width": ""
      }
     },
     "12a827fe46614abd93ac66b423149771": {
      "model_module": "@jupyter-widgets/base",
      "model_module_version": "1.2.0",
      "model_name": "LayoutModel",
      "state": {
       "width": "70px"
      }
     },
     "1754b932074244a8a28fa9e6a75302be": {
      "model_module": "@jupyter-widgets/controls",
      "model_module_version": "1.5.0",
      "model_name": "ButtonStyleModel",
      "state": {}
     },
     "1cb5afa5aa524b72bb3f09d290f9df34": {
      "model_module": "@jupyter-widgets/controls",
      "model_module_version": "1.5.0",
      "model_name": "HTMLModel",
      "state": {
       "layout": "IPY_MODEL_b880a482fb814369ada9354dd9ac15df",
       "style": "IPY_MODEL_4bafe931274649078b516340a9fe5212",
       "value": "<p style='font-family: IBM Plex Sans, Arial, Helvetica, sans-serif; font-size: 20px; font-weight: medium;'>Circuit Properties</p>"
      }
     },
     "1e3fb91490bf4a1d921f2ae6983d0e7d": {
      "model_module": "@jupyter-widgets/base",
      "model_module_version": "1.2.0",
      "model_name": "LayoutModel",
      "state": {}
     },
     "1f5dc4fd6fd3478c9e17412c714dee50": {
      "model_module": "@jupyter-widgets/controls",
      "model_module_version": "1.5.0",
      "model_name": "HTMLModel",
      "state": {
       "layout": "IPY_MODEL_e08f8211eb934723a3ae48aaaa7a4622",
       "style": "IPY_MODEL_f10241690d1f499b91e2db4e701178d0",
       "value": "<h5>Job ID</h5>"
      }
     },
     "28f219862aaa402c89e4b21ae5ee691d": {
      "model_module": "@jupyter-widgets/base",
      "model_module_version": "1.2.0",
      "model_name": "LayoutModel",
      "state": {}
     },
     "291602e97ad84592807a87e90996baec": {
      "model_module": "@jupyter-widgets/base",
      "model_module_version": "1.2.0",
      "model_name": "LayoutModel",
      "state": {}
     },
     "3c1ccb175d4c4008bebceb4a579dd797": {
      "model_module": "@jupyter-widgets/controls",
      "model_module_version": "1.5.0",
      "model_name": "DescriptionStyleModel",
      "state": {
       "description_width": ""
      }
     },
     "3eb2fa5002a84bae92f51881aa06218c": {
      "model_module": "@jupyter-widgets/base",
      "model_module_version": "1.2.0",
      "model_name": "LayoutModel",
      "state": {
       "grid_template_areas": "\n                                       \". . . . right \"\n                                        ",
       "grid_template_columns": "20% 20% 20% 20% 20%",
       "width": "100%"
      }
     },
     "3f565cfc72234d47b7685f002f711d5d": {
      "model_module": "@jupyter-widgets/base",
      "model_module_version": "1.2.0",
      "model_name": "LayoutModel",
      "state": {}
     },
     "43e1e8258147402186e0ccaf7ab429e9": {
      "model_module": "@jupyter-widgets/base",
      "model_module_version": "1.2.0",
      "model_name": "LayoutModel",
      "state": {
       "width": "145px"
      }
     },
     "4699fa81dee9400e8455a292a66fe3a7": {
      "model_module": "@jupyter-widgets/controls",
      "model_module_version": "1.5.0",
      "model_name": "DescriptionStyleModel",
      "state": {
       "description_width": ""
      }
     },
     "4a3468a7ee914e7c8ebe408163c126da": {
      "model_module": "@jupyter-widgets/controls",
      "model_module_version": "1.5.0",
      "model_name": "HBoxModel",
      "state": {
       "children": [
        "IPY_MODEL_cc13222806a44218b41632778a1495e2",
        "IPY_MODEL_78a4f55936f64d0187146d5cef1c9f65",
        "IPY_MODEL_da46f7307f7c44b0a6ae7c54848f63af",
        "IPY_MODEL_e0689bb9099148d2a3bbacd9927783f2",
        "IPY_MODEL_f0b1a5190245421992ad6660ee3f3daf"
       ],
       "layout": "IPY_MODEL_d97e7b66c29c4c57a3267e989f08c597"
      }
     },
     "4bafe931274649078b516340a9fe5212": {
      "model_module": "@jupyter-widgets/controls",
      "model_module_version": "1.5.0",
      "model_name": "DescriptionStyleModel",
      "state": {
       "description_width": ""
      }
     },
     "509061e585ed48dca5eec35bae85da9c": {
      "model_module": "@jupyter-widgets/controls",
      "model_module_version": "1.5.0",
      "model_name": "HTMLModel",
      "state": {
       "layout": "IPY_MODEL_43e1e8258147402186e0ccaf7ab429e9",
       "style": "IPY_MODEL_7303ac27f1504c1695bb094a3420d981",
       "value": "<h5>Backend</h5>"
      }
     },
     "5174d32b5dca493faba8ac801160d8a6": {
      "model_module": "@jupyter-widgets/controls",
      "model_module_version": "1.5.0",
      "model_name": "DescriptionStyleModel",
      "state": {
       "description_width": ""
      }
     },
     "51911141a3564927a3e1f3df7bd32616": {
      "model_module": "@jupyter-widgets/controls",
      "model_module_version": "1.5.0",
      "model_name": "GridBoxModel",
      "state": {
       "children": [
        "IPY_MODEL_64e375f7305349fa8f6164f62c1b079a"
       ],
       "layout": "IPY_MODEL_3eb2fa5002a84bae92f51881aa06218c"
      }
     },
     "55605c3dc27c4a9d93efe64e83713eb7": {
      "model_module": "@quantum/ibm-q-lab-widgets",
      "model_module_version": "^1.0.3",
      "model_name": "CircuitComposerModel",
      "state": {
       "_model_module_version": "^1.0.3",
       "_view_module_version": "^1.0.3",
       "circuit": "\"OPENQASM 2.0;\\ninclude \\\"qelib1.inc\\\";\\n\\nqreg q[2];\\ncreg c[2];\\n\\nh q[0];\\nx q[1];\\ncx q[0],q[1];\"",
       "editable": true,
       "layout": "IPY_MODEL_291602e97ad84592807a87e90996baec",
       "qiskit_code_cell_index": -1
      }
     },
     "56bf1ba3f49b460a9da000be9a9c25ef": {
      "model_module": "@jupyter-widgets/controls",
      "model_module_version": "1.5.0",
      "model_name": "DescriptionStyleModel",
      "state": {
       "description_width": ""
      }
     },
     "61aad0dc54604de1a518d8f1bd7c796f": {
      "model_module": "@jupyter-widgets/controls",
      "model_module_version": "1.5.0",
      "model_name": "DescriptionStyleModel",
      "state": {
       "description_width": ""
      }
     },
     "64e375f7305349fa8f6164f62c1b079a": {
      "model_module": "@jupyter-widgets/controls",
      "model_module_version": "1.5.0",
      "model_name": "ButtonModel",
      "state": {
       "button_style": "primary",
       "description": "Clear",
       "layout": "IPY_MODEL_a25d7b29a19147f38b198503ad36f052",
       "style": "IPY_MODEL_b32e42271e034b74be2aa555d005152d"
      }
     },
     "6bd2aa9b8c36403fa06e3320daa2f48b": {
      "model_module": "@jupyter-widgets/base",
      "model_module_version": "1.2.0",
      "model_name": "LayoutModel",
      "state": {}
     },
     "7303ac27f1504c1695bb094a3420d981": {
      "model_module": "@jupyter-widgets/controls",
      "model_module_version": "1.5.0",
      "model_name": "DescriptionStyleModel",
      "state": {
       "description_width": ""
      }
     },
     "76a38ab6633b48ed8105dfaf7e445684": {
      "model_module": "@jupyter-widgets/controls",
      "model_module_version": "1.5.0",
      "model_name": "ButtonModel",
      "state": {
       "button_style": "primary",
       "description": "Clear",
       "layout": "IPY_MODEL_b341a279538946cabbfcdf71d27402e8",
       "style": "IPY_MODEL_1754b932074244a8a28fa9e6a75302be"
      }
     },
     "78a4f55936f64d0187146d5cef1c9f65": {
      "model_module": "@jupyter-widgets/controls",
      "model_module_version": "1.5.0",
      "model_name": "HTMLModel",
      "state": {
       "layout": "IPY_MODEL_021e2838426741afb031f8c0804c24f8",
       "style": "IPY_MODEL_3c1ccb175d4c4008bebceb4a579dd797",
       "value": "<h5>Backend</h5>"
      }
     },
     "78e06341a15345f0877a92d1d4b48d85": {
      "model_module": "@jupyter-widgets/base",
      "model_module_version": "1.2.0",
      "model_name": "LayoutModel",
      "state": {
       "width": "95px"
      }
     },
     "894f159ac5c84da9ae58d0dadc08b4d5": {
      "model_module": "@quantum/ibm-q-lab-widgets",
      "model_module_version": "^1.0.3",
      "model_name": "CircuitComposerModel",
      "state": {
       "_model_module_version": "^1.0.3",
       "_view_module_version": "^1.0.3",
       "circuit": "\"OPENQASM 2.0;\\ninclude \\\"qelib1.inc\\\";\\n\\nqreg q0[2];\\ncreg c0[2];\\n\\nh q0[0];\\nx q0[1];\\ncx q0[0],q0[1];\"",
       "editable": true,
       "layout": "IPY_MODEL_6bd2aa9b8c36403fa06e3320daa2f48b",
       "qiskit_code_cell_index": -1
      }
     },
     "95d1381938f641dfb785f72d9c46a568": {
      "model_module": "@jupyter-widgets/controls",
      "model_module_version": "1.5.0",
      "model_name": "HTMLModel",
      "state": {
       "layout": "IPY_MODEL_b9e4e8c04f2547e39295857c8ae34d41",
       "style": "IPY_MODEL_56bf1ba3f49b460a9da000be9a9c25ef",
       "value": "<p style='font-family: IBM Plex Sans, Arial, Helvetica, sans-serif; font-size: 20px; font-weight: medium;'>Circuit Properties</p>"
      }
     },
     "a14fef4027124f979ec4f752b1897358": {
      "model_module": "@jupyter-widgets/controls",
      "model_module_version": "1.5.0",
      "model_name": "HTMLModel",
      "state": {
       "layout": "IPY_MODEL_e6d70968c89d4627aa786e915c1d02d7",
       "style": "IPY_MODEL_61aad0dc54604de1a518d8f1bd7c796f",
       "value": "<h5>Status</h5>"
      }
     },
     "a25d7b29a19147f38b198503ad36f052": {
      "model_module": "@jupyter-widgets/base",
      "model_module_version": "1.2.0",
      "model_name": "LayoutModel",
      "state": {
       "grid_area": "right",
       "padding": "0px 0px 0px 0px",
       "width": "70px"
      }
     },
     "ad12b3f8b4c044d69f0c84ac40298af5": {
      "model_module": "@jupyter-widgets/controls",
      "model_module_version": "1.5.0",
      "model_name": "DescriptionStyleModel",
      "state": {
       "description_width": ""
      }
     },
     "ad14792915ef45f8b011e339fe641e7c": {
      "model_module": "@jupyter-widgets/controls",
      "model_module_version": "1.5.0",
      "model_name": "DescriptionStyleModel",
      "state": {
       "description_width": ""
      }
     },
     "ae7869cf21af497c9e5c455fd7705636": {
      "model_module": "@quantum/ibm-q-lab-widgets",
      "model_module_version": "^1.0.3",
      "model_name": "CircuitComposerModel",
      "state": {
       "_model_module_version": "^1.0.3",
       "_view_module_version": "^1.0.3",
       "circuit": "\"OPENQASM 2.0;\\ninclude \\\"qelib1.inc\\\";\\n\\nqreg q[2];\\ncreg c[2];\\n\\nh q[0];\\nx q[1];\\ncx q[0],q[1];\"",
       "editable": true,
       "layout": "IPY_MODEL_af763ae5c06e4f6097f4dda2c476beb2",
       "qiskit_code_cell_index": -1
      }
     },
     "af763ae5c06e4f6097f4dda2c476beb2": {
      "model_module": "@jupyter-widgets/base",
      "model_module_version": "1.2.0",
      "model_name": "LayoutModel",
      "state": {}
     },
     "b033c1ee33044fe9a7ac5c672e03dad8": {
      "model_module": "@jupyter-widgets/base",
      "model_module_version": "1.2.0",
      "model_name": "LayoutModel",
      "state": {
       "grid_template_areas": "\n                                       \". . . . right \"\n                                        ",
       "grid_template_columns": "20% 20% 20% 20% 20%",
       "width": "100%"
      }
     },
     "b32e42271e034b74be2aa555d005152d": {
      "model_module": "@jupyter-widgets/controls",
      "model_module_version": "1.5.0",
      "model_name": "ButtonStyleModel",
      "state": {}
     },
     "b341a279538946cabbfcdf71d27402e8": {
      "model_module": "@jupyter-widgets/base",
      "model_module_version": "1.2.0",
      "model_name": "LayoutModel",
      "state": {
       "grid_area": "right",
       "padding": "0px 0px 0px 0px",
       "width": "70px"
      }
     },
     "b880a482fb814369ada9354dd9ac15df": {
      "model_module": "@jupyter-widgets/base",
      "model_module_version": "1.2.0",
      "model_name": "LayoutModel",
      "state": {
       "margin": "0px 0px 10px 0px"
      }
     },
     "b958fa51ade54747a0815593dafde1df": {
      "model_module": "@jupyter-widgets/base",
      "model_module_version": "1.2.0",
      "model_name": "LayoutModel",
      "state": {
       "margin": "0px 0px 0px 37px",
       "width": "600px"
      }
     },
     "b9b494bc4cb94712bf3d824478fbd794": {
      "model_module": "@jupyter-widgets/controls",
      "model_module_version": "1.5.0",
      "model_name": "HTMLModel",
      "state": {
       "layout": "IPY_MODEL_12a827fe46614abd93ac66b423149771",
       "style": "IPY_MODEL_0ee417a0c4e84d7398191e2946b9d2ae",
       "value": "<h5>Queue</h5>"
      }
     },
     "b9e4e8c04f2547e39295857c8ae34d41": {
      "model_module": "@jupyter-widgets/base",
      "model_module_version": "1.2.0",
      "model_name": "LayoutModel",
      "state": {
       "margin": "0px 0px 10px 0px"
      }
     },
     "c3fee94b47ab4a3fa07ac5e794e978ce": {
      "model_module": "@jupyter-widgets/base",
      "model_module_version": "1.2.0",
      "model_name": "LayoutModel",
      "state": {}
     },
     "cc13222806a44218b41632778a1495e2": {
      "model_module": "@jupyter-widgets/controls",
      "model_module_version": "1.5.0",
      "model_name": "HTMLModel",
      "state": {
       "layout": "IPY_MODEL_0b47cc0c51b44837b9d4627e9ca038dd",
       "style": "IPY_MODEL_ad12b3f8b4c044d69f0c84ac40298af5",
       "value": "<h5>Job ID</h5>"
      }
     },
     "d068bf1c41224c1098a934ac543704ff": {
      "model_module": "@quantum/ibm-q-lab-widgets",
      "model_module_version": "^1.0.3",
      "model_name": "CircuitComposerModel",
      "state": {
       "_model_module_version": "^1.0.3",
       "_view_module_version": "^1.0.3",
       "circuit": "\"OPENQASM 2.0;\\ninclude \\\"qelib1.inc\\\";\\n\\nqreg q[2];\\ncreg c[2];\\n\\nh q[0];\\nx q[1];\\ncx q[0],q[1];\"",
       "editable": true,
       "layout": "IPY_MODEL_28f219862aaa402c89e4b21ae5ee691d",
       "qiskit_code_cell_index": -1
      }
     },
     "d6eeb93dc68d4a00a381e4b8b03bcdd1": {
      "model_module": "@jupyter-widgets/controls",
      "model_module_version": "1.5.0",
      "model_name": "HTMLModel",
      "state": {
       "layout": "IPY_MODEL_1e3fb91490bf4a1d921f2ae6983d0e7d",
       "style": "IPY_MODEL_0b4730da7edb4f688533c91dc79e5072",
       "value": "<h5>Message</h5>"
      }
     },
     "d97e7b66c29c4c57a3267e989f08c597": {
      "model_module": "@jupyter-widgets/base",
      "model_module_version": "1.2.0",
      "model_name": "LayoutModel",
      "state": {
       "margin": "0px 0px 0px 37px",
       "width": "600px"
      }
     },
     "da46f7307f7c44b0a6ae7c54848f63af": {
      "model_module": "@jupyter-widgets/controls",
      "model_module_version": "1.5.0",
      "model_name": "HTMLModel",
      "state": {
       "layout": "IPY_MODEL_78e06341a15345f0877a92d1d4b48d85",
       "style": "IPY_MODEL_ad14792915ef45f8b011e339fe641e7c",
       "value": "<h5>Status</h5>"
      }
     },
     "dff751adfbb14c09b3be5221e14aa6b4": {
      "model_module": "@jupyter-widgets/controls",
      "model_module_version": "1.5.0",
      "model_name": "GridBoxModel",
      "state": {
       "children": [
        "IPY_MODEL_76a38ab6633b48ed8105dfaf7e445684"
       ],
       "layout": "IPY_MODEL_b033c1ee33044fe9a7ac5c672e03dad8"
      }
     },
     "e0689bb9099148d2a3bbacd9927783f2": {
      "model_module": "@jupyter-widgets/controls",
      "model_module_version": "1.5.0",
      "model_name": "HTMLModel",
      "state": {
       "layout": "IPY_MODEL_f34d6b7f37244474bfd00f54c3c50376",
       "style": "IPY_MODEL_4699fa81dee9400e8455a292a66fe3a7",
       "value": "<h5>Queue</h5>"
      }
     },
     "e08f8211eb934723a3ae48aaaa7a4622": {
      "model_module": "@jupyter-widgets/base",
      "model_module_version": "1.2.0",
      "model_name": "LayoutModel",
      "state": {
       "width": "190px"
      }
     },
     "e6d70968c89d4627aa786e915c1d02d7": {
      "model_module": "@jupyter-widgets/base",
      "model_module_version": "1.2.0",
      "model_name": "LayoutModel",
      "state": {
       "width": "95px"
      }
     },
     "e703aabef66f419dbe772c3c2407d2f5": {
      "model_module": "@quantum/ibm-q-lab-widgets",
      "model_module_version": "^1.0.3",
      "model_name": "CircuitComposerModel",
      "state": {
       "_model_module_version": "^1.0.3",
       "_view_module_version": "^1.0.3",
       "circuit": "\"OPENQASM 2.0;\\ninclude \\\"qelib1.inc\\\";\\n\\nqreg q[2];\\ncreg c[2];\\n\\nh q[0];\\nx q[1];\\ncx q[0],q[1];\\nmeasure q[0] -> c[0];\\nmeasure q[1] -> c[1];\\nmeasure q[0] -> c[0];\\nmeasure q[1] -> c[1];\\nmeasure q[0] -> c[0];\\nmeasure q[1] -> c[1];\\nmeasure q[0] -> c[0];\\nmeasure q[1] -> c[1];\\nmeasure q[0] -> c[0];\\nmeasure q[1] -> c[1];\"",
       "editable": true,
       "layout": "IPY_MODEL_3f565cfc72234d47b7685f002f711d5d",
       "qiskit_code_cell_index": -1
      }
     },
     "e795975bcf35466bb0862a1eb90ae81f": {
      "model_module": "@jupyter-widgets/base",
      "model_module_version": "1.2.0",
      "model_name": "LayoutModel",
      "state": {}
     },
     "f0b1a5190245421992ad6660ee3f3daf": {
      "model_module": "@jupyter-widgets/controls",
      "model_module_version": "1.5.0",
      "model_name": "HTMLModel",
      "state": {
       "layout": "IPY_MODEL_c3fee94b47ab4a3fa07ac5e794e978ce",
       "style": "IPY_MODEL_5174d32b5dca493faba8ac801160d8a6",
       "value": "<h5>Message</h5>"
      }
     },
     "f10241690d1f499b91e2db4e701178d0": {
      "model_module": "@jupyter-widgets/controls",
      "model_module_version": "1.5.0",
      "model_name": "DescriptionStyleModel",
      "state": {
       "description_width": ""
      }
     },
     "f34d6b7f37244474bfd00f54c3c50376": {
      "model_module": "@jupyter-widgets/base",
      "model_module_version": "1.2.0",
      "model_name": "LayoutModel",
      "state": {
       "width": "70px"
      }
     },
     "f88f1230747a49a09df0859a4d68f68a": {
      "model_module": "@quantum/ibm-q-lab-widgets",
      "model_module_version": "^1.0.3",
      "model_name": "CircuitComposerModel",
      "state": {
       "_model_module_version": "^1.0.3",
       "_view_module_version": "^1.0.3",
       "circuit": "\"OPENQASM 2.0;\\ninclude \\\"qelib1.inc\\\";\\n\\nqreg q[2];\\ncreg c[2];\\n\\nh q[0];\\nx q[1];\\ncx q[0],q[1];\"",
       "editable": true,
       "layout": "IPY_MODEL_e795975bcf35466bb0862a1eb90ae81f",
       "qiskit_code_cell_index": -1
      }
     },
     "fb09400189d14630a7ce610c043e9442": {
      "model_module": "@jupyter-widgets/controls",
      "model_module_version": "1.5.0",
      "model_name": "HBoxModel",
      "state": {
       "children": [
        "IPY_MODEL_1f5dc4fd6fd3478c9e17412c714dee50",
        "IPY_MODEL_509061e585ed48dca5eec35bae85da9c",
        "IPY_MODEL_a14fef4027124f979ec4f752b1897358",
        "IPY_MODEL_b9b494bc4cb94712bf3d824478fbd794",
        "IPY_MODEL_d6eeb93dc68d4a00a381e4b8b03bcdd1"
       ],
       "layout": "IPY_MODEL_b958fa51ade54747a0815593dafde1df"
      }
     }
    },
    "version_major": 2,
    "version_minor": 0
   }
  }
 },
 "nbformat": 4,
 "nbformat_minor": 4
}
